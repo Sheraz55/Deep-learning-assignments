{
  "nbformat": 4,
  "nbformat_minor": 0,
  "metadata": {
    "colab": {
      "name": "Car Price Prediction.ipynb",
      "provenance": [],
      "authorship_tag": "ABX9TyPjiyH98lZfaYYVEJwFtktO",
      "include_colab_link": true
    },
    "kernelspec": {
      "name": "python3",
      "display_name": "Python 3"
    },
    "language_info": {
      "name": "python"
    }
  },
  "cells": [
    {
      "cell_type": "markdown",
      "metadata": {
        "id": "view-in-github",
        "colab_type": "text"
      },
      "source": [
        "<a href=\"https://colab.research.google.com/github/Sheraz55/Deep-learning-assignments/blob/main/Car_Price_Prediction.ipynb\" target=\"_parent\"><img src=\"https://colab.research.google.com/assets/colab-badge.svg\" alt=\"Open In Colab\"/></a>"
      ]
    },
    {
      "cell_type": "code",
      "metadata": {
        "id": "lMYUq2hI4TLr"
      },
      "source": [
        "import numpy as np\n",
        "import pandas as pd\n",
        "import matplotlib.pylab as plt\n",
        "import tensorflow as tf"
      ],
      "execution_count": 1,
      "outputs": []
    },
    {
      "cell_type": "code",
      "metadata": {
        "colab": {
          "base_uri": "https://localhost:8080/",
          "height": 275
        },
        "id": "eXRIPvDd4lFR",
        "outputId": "125db30f-6259-4059-fac8-9d3aae6f1433"
      },
      "source": [
        "cars_data = pd.read_csv(\"/content/CarPrice_Assignment (1).csv\")\n",
        "data.head()"
      ],
      "execution_count": 4,
      "outputs": [
        {
          "output_type": "execute_result",
          "data": {
            "text/html": [
              "<div>\n",
              "<style scoped>\n",
              "    .dataframe tbody tr th:only-of-type {\n",
              "        vertical-align: middle;\n",
              "    }\n",
              "\n",
              "    .dataframe tbody tr th {\n",
              "        vertical-align: top;\n",
              "    }\n",
              "\n",
              "    .dataframe thead th {\n",
              "        text-align: right;\n",
              "    }\n",
              "</style>\n",
              "<table border=\"1\" class=\"dataframe\">\n",
              "  <thead>\n",
              "    <tr style=\"text-align: right;\">\n",
              "      <th></th>\n",
              "      <th>car_ID</th>\n",
              "      <th>symboling</th>\n",
              "      <th>CarName</th>\n",
              "      <th>fueltype</th>\n",
              "      <th>aspiration</th>\n",
              "      <th>doornumber</th>\n",
              "      <th>carbody</th>\n",
              "      <th>drivewheel</th>\n",
              "      <th>enginelocation</th>\n",
              "      <th>wheelbase</th>\n",
              "      <th>carlength</th>\n",
              "      <th>carwidth</th>\n",
              "      <th>carheight</th>\n",
              "      <th>curbweight</th>\n",
              "      <th>enginetype</th>\n",
              "      <th>cylindernumber</th>\n",
              "      <th>enginesize</th>\n",
              "      <th>fuelsystem</th>\n",
              "      <th>boreratio</th>\n",
              "      <th>stroke</th>\n",
              "      <th>compressionratio</th>\n",
              "      <th>horsepower</th>\n",
              "      <th>peakrpm</th>\n",
              "      <th>citympg</th>\n",
              "      <th>highwaympg</th>\n",
              "      <th>price</th>\n",
              "    </tr>\n",
              "  </thead>\n",
              "  <tbody>\n",
              "    <tr>\n",
              "      <th>0</th>\n",
              "      <td>1</td>\n",
              "      <td>3</td>\n",
              "      <td>alfa-romero giulia</td>\n",
              "      <td>gas</td>\n",
              "      <td>std</td>\n",
              "      <td>two</td>\n",
              "      <td>convertible</td>\n",
              "      <td>rwd</td>\n",
              "      <td>front</td>\n",
              "      <td>88.6</td>\n",
              "      <td>168.8</td>\n",
              "      <td>64.1</td>\n",
              "      <td>48.8</td>\n",
              "      <td>2548</td>\n",
              "      <td>dohc</td>\n",
              "      <td>four</td>\n",
              "      <td>130</td>\n",
              "      <td>mpfi</td>\n",
              "      <td>3.47</td>\n",
              "      <td>2.68</td>\n",
              "      <td>9.0</td>\n",
              "      <td>111</td>\n",
              "      <td>5000</td>\n",
              "      <td>21</td>\n",
              "      <td>27</td>\n",
              "      <td>13495.0</td>\n",
              "    </tr>\n",
              "    <tr>\n",
              "      <th>1</th>\n",
              "      <td>2</td>\n",
              "      <td>3</td>\n",
              "      <td>alfa-romero stelvio</td>\n",
              "      <td>gas</td>\n",
              "      <td>std</td>\n",
              "      <td>two</td>\n",
              "      <td>convertible</td>\n",
              "      <td>rwd</td>\n",
              "      <td>front</td>\n",
              "      <td>88.6</td>\n",
              "      <td>168.8</td>\n",
              "      <td>64.1</td>\n",
              "      <td>48.8</td>\n",
              "      <td>2548</td>\n",
              "      <td>dohc</td>\n",
              "      <td>four</td>\n",
              "      <td>130</td>\n",
              "      <td>mpfi</td>\n",
              "      <td>3.47</td>\n",
              "      <td>2.68</td>\n",
              "      <td>9.0</td>\n",
              "      <td>111</td>\n",
              "      <td>5000</td>\n",
              "      <td>21</td>\n",
              "      <td>27</td>\n",
              "      <td>16500.0</td>\n",
              "    </tr>\n",
              "    <tr>\n",
              "      <th>2</th>\n",
              "      <td>3</td>\n",
              "      <td>1</td>\n",
              "      <td>alfa-romero Quadrifoglio</td>\n",
              "      <td>gas</td>\n",
              "      <td>std</td>\n",
              "      <td>two</td>\n",
              "      <td>hatchback</td>\n",
              "      <td>rwd</td>\n",
              "      <td>front</td>\n",
              "      <td>94.5</td>\n",
              "      <td>171.2</td>\n",
              "      <td>65.5</td>\n",
              "      <td>52.4</td>\n",
              "      <td>2823</td>\n",
              "      <td>ohcv</td>\n",
              "      <td>six</td>\n",
              "      <td>152</td>\n",
              "      <td>mpfi</td>\n",
              "      <td>2.68</td>\n",
              "      <td>3.47</td>\n",
              "      <td>9.0</td>\n",
              "      <td>154</td>\n",
              "      <td>5000</td>\n",
              "      <td>19</td>\n",
              "      <td>26</td>\n",
              "      <td>16500.0</td>\n",
              "    </tr>\n",
              "    <tr>\n",
              "      <th>3</th>\n",
              "      <td>4</td>\n",
              "      <td>2</td>\n",
              "      <td>audi 100 ls</td>\n",
              "      <td>gas</td>\n",
              "      <td>std</td>\n",
              "      <td>four</td>\n",
              "      <td>sedan</td>\n",
              "      <td>fwd</td>\n",
              "      <td>front</td>\n",
              "      <td>99.8</td>\n",
              "      <td>176.6</td>\n",
              "      <td>66.2</td>\n",
              "      <td>54.3</td>\n",
              "      <td>2337</td>\n",
              "      <td>ohc</td>\n",
              "      <td>four</td>\n",
              "      <td>109</td>\n",
              "      <td>mpfi</td>\n",
              "      <td>3.19</td>\n",
              "      <td>3.40</td>\n",
              "      <td>10.0</td>\n",
              "      <td>102</td>\n",
              "      <td>5500</td>\n",
              "      <td>24</td>\n",
              "      <td>30</td>\n",
              "      <td>13950.0</td>\n",
              "    </tr>\n",
              "    <tr>\n",
              "      <th>4</th>\n",
              "      <td>5</td>\n",
              "      <td>2</td>\n",
              "      <td>audi 100ls</td>\n",
              "      <td>gas</td>\n",
              "      <td>std</td>\n",
              "      <td>four</td>\n",
              "      <td>sedan</td>\n",
              "      <td>4wd</td>\n",
              "      <td>front</td>\n",
              "      <td>99.4</td>\n",
              "      <td>176.6</td>\n",
              "      <td>66.4</td>\n",
              "      <td>54.3</td>\n",
              "      <td>2824</td>\n",
              "      <td>ohc</td>\n",
              "      <td>five</td>\n",
              "      <td>136</td>\n",
              "      <td>mpfi</td>\n",
              "      <td>3.19</td>\n",
              "      <td>3.40</td>\n",
              "      <td>8.0</td>\n",
              "      <td>115</td>\n",
              "      <td>5500</td>\n",
              "      <td>18</td>\n",
              "      <td>22</td>\n",
              "      <td>17450.0</td>\n",
              "    </tr>\n",
              "  </tbody>\n",
              "</table>\n",
              "</div>"
            ],
            "text/plain": [
              "   car_ID  symboling                   CarName  ... citympg highwaympg    price\n",
              "0       1          3        alfa-romero giulia  ...      21         27  13495.0\n",
              "1       2          3       alfa-romero stelvio  ...      21         27  16500.0\n",
              "2       3          1  alfa-romero Quadrifoglio  ...      19         26  16500.0\n",
              "3       4          2               audi 100 ls  ...      24         30  13950.0\n",
              "4       5          2                audi 100ls  ...      18         22  17450.0\n",
              "\n",
              "[5 rows x 26 columns]"
            ]
          },
          "metadata": {
            "tags": []
          },
          "execution_count": 4
        }
      ]
    },
    {
      "cell_type": "code",
      "metadata": {
        "id": "-tZTopku5N73"
      },
      "source": [
        "from sklearn.utils import shuffle\n",
        "data=shuffle(data)\n",
        "data=data.drop('CarName',axis=1)\n",
        "data=data.drop('car_ID',axis=1)"
      ],
      "execution_count": 7,
      "outputs": []
    },
    {
      "cell_type": "code",
      "metadata": {
        "colab": {
          "base_uri": "https://localhost:8080/"
        },
        "id": "GN_GK5nj6coC",
        "outputId": "b8a60c6b-1478-4934-cb00-077976ea0c07"
      },
      "source": [
        "data.info()"
      ],
      "execution_count": 8,
      "outputs": [
        {
          "output_type": "stream",
          "text": [
            "<class 'pandas.core.frame.DataFrame'>\n",
            "Int64Index: 205 entries, 89 to 30\n",
            "Data columns (total 24 columns):\n",
            " #   Column            Non-Null Count  Dtype  \n",
            "---  ------            --------------  -----  \n",
            " 0   symboling         205 non-null    int64  \n",
            " 1   fueltype          205 non-null    object \n",
            " 2   aspiration        205 non-null    object \n",
            " 3   doornumber        205 non-null    object \n",
            " 4   carbody           205 non-null    object \n",
            " 5   drivewheel        205 non-null    object \n",
            " 6   enginelocation    205 non-null    object \n",
            " 7   wheelbase         205 non-null    float64\n",
            " 8   carlength         205 non-null    float64\n",
            " 9   carwidth          205 non-null    float64\n",
            " 10  carheight         205 non-null    float64\n",
            " 11  curbweight        205 non-null    int64  \n",
            " 12  enginetype        205 non-null    object \n",
            " 13  cylindernumber    205 non-null    object \n",
            " 14  enginesize        205 non-null    int64  \n",
            " 15  fuelsystem        205 non-null    object \n",
            " 16  boreratio         205 non-null    float64\n",
            " 17  stroke            205 non-null    float64\n",
            " 18  compressionratio  205 non-null    float64\n",
            " 19  horsepower        205 non-null    int64  \n",
            " 20  peakrpm           205 non-null    int64  \n",
            " 21  citympg           205 non-null    int64  \n",
            " 22  highwaympg        205 non-null    int64  \n",
            " 23  price             205 non-null    float64\n",
            "dtypes: float64(8), int64(7), object(9)\n",
            "memory usage: 40.0+ KB\n"
          ],
          "name": "stdout"
        }
      ]
    },
    {
      "cell_type": "code",
      "metadata": {
        "colab": {
          "base_uri": "https://localhost:8080/"
        },
        "id": "S5EcXMEf6iC6",
        "outputId": "8eb6cbdd-0ed9-4b38-8e49-5ba73e26c7f3"
      },
      "source": [
        "data.isnull().values.any()"
      ],
      "execution_count": 10,
      "outputs": [
        {
          "output_type": "execute_result",
          "data": {
            "text/plain": [
              "False"
            ]
          },
          "metadata": {
            "tags": []
          },
          "execution_count": 10
        }
      ]
    },
    {
      "cell_type": "code",
      "metadata": {
        "colab": {
          "base_uri": "https://localhost:8080/",
          "height": 224
        },
        "id": "KgEgr0dp6rc4",
        "outputId": "d60beb56-ea07-48d6-81f0-6d0d1c27a9df"
      },
      "source": [
        "data.head()"
      ],
      "execution_count": 11,
      "outputs": [
        {
          "output_type": "execute_result",
          "data": {
            "text/html": [
              "<div>\n",
              "<style scoped>\n",
              "    .dataframe tbody tr th:only-of-type {\n",
              "        vertical-align: middle;\n",
              "    }\n",
              "\n",
              "    .dataframe tbody tr th {\n",
              "        vertical-align: top;\n",
              "    }\n",
              "\n",
              "    .dataframe thead th {\n",
              "        text-align: right;\n",
              "    }\n",
              "</style>\n",
              "<table border=\"1\" class=\"dataframe\">\n",
              "  <thead>\n",
              "    <tr style=\"text-align: right;\">\n",
              "      <th></th>\n",
              "      <th>symboling</th>\n",
              "      <th>fueltype</th>\n",
              "      <th>aspiration</th>\n",
              "      <th>doornumber</th>\n",
              "      <th>carbody</th>\n",
              "      <th>drivewheel</th>\n",
              "      <th>enginelocation</th>\n",
              "      <th>wheelbase</th>\n",
              "      <th>carlength</th>\n",
              "      <th>carwidth</th>\n",
              "      <th>carheight</th>\n",
              "      <th>curbweight</th>\n",
              "      <th>enginetype</th>\n",
              "      <th>cylindernumber</th>\n",
              "      <th>enginesize</th>\n",
              "      <th>fuelsystem</th>\n",
              "      <th>boreratio</th>\n",
              "      <th>stroke</th>\n",
              "      <th>compressionratio</th>\n",
              "      <th>horsepower</th>\n",
              "      <th>peakrpm</th>\n",
              "      <th>citympg</th>\n",
              "      <th>highwaympg</th>\n",
              "      <th>price</th>\n",
              "    </tr>\n",
              "  </thead>\n",
              "  <tbody>\n",
              "    <tr>\n",
              "      <th>89</th>\n",
              "      <td>1</td>\n",
              "      <td>gas</td>\n",
              "      <td>std</td>\n",
              "      <td>two</td>\n",
              "      <td>sedan</td>\n",
              "      <td>fwd</td>\n",
              "      <td>front</td>\n",
              "      <td>94.5</td>\n",
              "      <td>165.3</td>\n",
              "      <td>63.8</td>\n",
              "      <td>54.5</td>\n",
              "      <td>1889</td>\n",
              "      <td>ohc</td>\n",
              "      <td>four</td>\n",
              "      <td>97</td>\n",
              "      <td>2bbl</td>\n",
              "      <td>3.15</td>\n",
              "      <td>3.29</td>\n",
              "      <td>9.4</td>\n",
              "      <td>69</td>\n",
              "      <td>5200</td>\n",
              "      <td>31</td>\n",
              "      <td>37</td>\n",
              "      <td>5499.0</td>\n",
              "    </tr>\n",
              "    <tr>\n",
              "      <th>121</th>\n",
              "      <td>1</td>\n",
              "      <td>gas</td>\n",
              "      <td>std</td>\n",
              "      <td>four</td>\n",
              "      <td>sedan</td>\n",
              "      <td>fwd</td>\n",
              "      <td>front</td>\n",
              "      <td>93.7</td>\n",
              "      <td>167.3</td>\n",
              "      <td>63.8</td>\n",
              "      <td>50.8</td>\n",
              "      <td>1989</td>\n",
              "      <td>ohc</td>\n",
              "      <td>four</td>\n",
              "      <td>90</td>\n",
              "      <td>2bbl</td>\n",
              "      <td>2.97</td>\n",
              "      <td>3.23</td>\n",
              "      <td>9.4</td>\n",
              "      <td>68</td>\n",
              "      <td>5500</td>\n",
              "      <td>31</td>\n",
              "      <td>38</td>\n",
              "      <td>6692.0</td>\n",
              "    </tr>\n",
              "    <tr>\n",
              "      <th>92</th>\n",
              "      <td>1</td>\n",
              "      <td>gas</td>\n",
              "      <td>std</td>\n",
              "      <td>four</td>\n",
              "      <td>sedan</td>\n",
              "      <td>fwd</td>\n",
              "      <td>front</td>\n",
              "      <td>94.5</td>\n",
              "      <td>165.3</td>\n",
              "      <td>63.8</td>\n",
              "      <td>54.5</td>\n",
              "      <td>1938</td>\n",
              "      <td>ohc</td>\n",
              "      <td>four</td>\n",
              "      <td>97</td>\n",
              "      <td>2bbl</td>\n",
              "      <td>3.15</td>\n",
              "      <td>3.29</td>\n",
              "      <td>9.4</td>\n",
              "      <td>69</td>\n",
              "      <td>5200</td>\n",
              "      <td>31</td>\n",
              "      <td>37</td>\n",
              "      <td>6849.0</td>\n",
              "    </tr>\n",
              "    <tr>\n",
              "      <th>37</th>\n",
              "      <td>0</td>\n",
              "      <td>gas</td>\n",
              "      <td>std</td>\n",
              "      <td>two</td>\n",
              "      <td>hatchback</td>\n",
              "      <td>fwd</td>\n",
              "      <td>front</td>\n",
              "      <td>96.5</td>\n",
              "      <td>167.5</td>\n",
              "      <td>65.2</td>\n",
              "      <td>53.3</td>\n",
              "      <td>2236</td>\n",
              "      <td>ohc</td>\n",
              "      <td>four</td>\n",
              "      <td>110</td>\n",
              "      <td>1bbl</td>\n",
              "      <td>3.15</td>\n",
              "      <td>3.58</td>\n",
              "      <td>9.0</td>\n",
              "      <td>86</td>\n",
              "      <td>5800</td>\n",
              "      <td>27</td>\n",
              "      <td>33</td>\n",
              "      <td>7895.0</td>\n",
              "    </tr>\n",
              "    <tr>\n",
              "      <th>12</th>\n",
              "      <td>0</td>\n",
              "      <td>gas</td>\n",
              "      <td>std</td>\n",
              "      <td>two</td>\n",
              "      <td>sedan</td>\n",
              "      <td>rwd</td>\n",
              "      <td>front</td>\n",
              "      <td>101.2</td>\n",
              "      <td>176.8</td>\n",
              "      <td>64.8</td>\n",
              "      <td>54.3</td>\n",
              "      <td>2710</td>\n",
              "      <td>ohc</td>\n",
              "      <td>six</td>\n",
              "      <td>164</td>\n",
              "      <td>mpfi</td>\n",
              "      <td>3.31</td>\n",
              "      <td>3.19</td>\n",
              "      <td>9.0</td>\n",
              "      <td>121</td>\n",
              "      <td>4250</td>\n",
              "      <td>21</td>\n",
              "      <td>28</td>\n",
              "      <td>20970.0</td>\n",
              "    </tr>\n",
              "  </tbody>\n",
              "</table>\n",
              "</div>"
            ],
            "text/plain": [
              "     symboling fueltype aspiration  ... citympg highwaympg    price\n",
              "89           1      gas        std  ...      31         37   5499.0\n",
              "121          1      gas        std  ...      31         38   6692.0\n",
              "92           1      gas        std  ...      31         37   6849.0\n",
              "37           0      gas        std  ...      27         33   7895.0\n",
              "12           0      gas        std  ...      21         28  20970.0\n",
              "\n",
              "[5 rows x 24 columns]"
            ]
          },
          "metadata": {
            "tags": []
          },
          "execution_count": 11
        }
      ]
    },
    {
      "cell_type": "code",
      "metadata": {
        "id": "n7Bwm09T7EET"
      },
      "source": [
        "from sklearn.preprocessing import LabelEncoder\n",
        "labelencoder = LabelEncoder()\n",
        "data['fueltype']=labelencoder.fit_transform(data['fueltype'])\n",
        "data['aspiration']=labelencoder.fit_transform(data['aspiration'])\n",
        "data['doornumber'] = data['doornumber'].map({'two':2,'four':4})\n",
        "data['carbody']=labelencoder.fit_transform(data['carbody'])\n",
        "data['drivewheel']=labelencoder.fit_transform(data['drivewheel'])\n",
        "data['enginelocation']=labelencoder.fit_transform(data['enginelocation'])\n",
        "data['enginetype']=labelencoder.fit_transform(data['enginetype'])\n",
        "data['fuelsystem']=labelencoder.fit_transform(data['fuelsystem'])\n",
        "data['cylindernumber'] = labelencoder.fit_transform(data['cylindernumber'])\n"
      ],
      "execution_count": 13,
      "outputs": []
    },
    {
      "cell_type": "code",
      "metadata": {
        "colab": {
          "base_uri": "https://localhost:8080/"
        },
        "id": "dNomPgOYFnoF",
        "outputId": "d5b59a5c-f962-4159-8a8e-f30e0a30f323"
      },
      "source": [
        "train_data=data.iloc[:103]\n",
        "train_targets=data.price.iloc[:103]\n",
        "train_targets=np.asarray(train_targets)\n",
        "train_data.drop('price',axis=1,inplace=True)\n",
        "\n",
        "print(train_data.shape)\n",
        "\n",
        "test_data=data.iloc[103:166]\n",
        "test_targets=data.price.iloc[103:166]\n",
        "test_targets=np.asarray(test_targets)\n",
        "test_data.drop('price',axis=1,inplace=True)\n",
        "\n",
        "print(test_data.shape)"
      ],
      "execution_count": 14,
      "outputs": [
        {
          "output_type": "stream",
          "text": [
            "(103, 23)\n",
            "(63, 23)\n"
          ],
          "name": "stdout"
        },
        {
          "output_type": "stream",
          "text": [
            "/usr/local/lib/python3.7/dist-packages/pandas/core/frame.py:4174: SettingWithCopyWarning: \n",
            "A value is trying to be set on a copy of a slice from a DataFrame\n",
            "\n",
            "See the caveats in the documentation: https://pandas.pydata.org/pandas-docs/stable/user_guide/indexing.html#returning-a-view-versus-a-copy\n",
            "  errors=errors,\n"
          ],
          "name": "stderr"
        }
      ]
    },
    {
      "cell_type": "code",
      "metadata": {
        "colab": {
          "base_uri": "https://localhost:8080/"
        },
        "id": "quC4jTwzF6Ps",
        "outputId": "0f27c301-7860-4ec6-aaa8-ea08094b0809"
      },
      "source": [
        "val_data=data.iloc[166:]\n",
        "val_data.drop('price',axis=1,inplace=True)\n",
        "\n",
        "val_targets=data.price.iloc[166:]\n",
        "val_targets=np.asarray(val_targets)"
      ],
      "execution_count": 15,
      "outputs": [
        {
          "output_type": "stream",
          "text": [
            "/usr/local/lib/python3.7/dist-packages/pandas/core/frame.py:4174: SettingWithCopyWarning: \n",
            "A value is trying to be set on a copy of a slice from a DataFrame\n",
            "\n",
            "See the caveats in the documentation: https://pandas.pydata.org/pandas-docs/stable/user_guide/indexing.html#returning-a-view-versus-a-copy\n",
            "  errors=errors,\n"
          ],
          "name": "stderr"
        }
      ]
    },
    {
      "cell_type": "code",
      "metadata": {
        "colab": {
          "base_uri": "https://localhost:8080/"
        },
        "id": "pqB3Si71O41s",
        "outputId": "e00f3823-dda2-4774-fa46-c6f4a78d51cf"
      },
      "source": [
        "val_data.fillna(0, inplace = True)\n",
        "val_data.isna().sum()\n"
      ],
      "execution_count": 31,
      "outputs": [
        {
          "output_type": "stream",
          "text": [
            "/usr/local/lib/python3.7/dist-packages/pandas/core/frame.py:4327: SettingWithCopyWarning: \n",
            "A value is trying to be set on a copy of a slice from a DataFrame\n",
            "\n",
            "See the caveats in the documentation: https://pandas.pydata.org/pandas-docs/stable/user_guide/indexing.html#returning-a-view-versus-a-copy\n",
            "  downcast=downcast,\n"
          ],
          "name": "stderr"
        },
        {
          "output_type": "execute_result",
          "data": {
            "text/plain": [
              "symboling           0\n",
              "fueltype            0\n",
              "aspiration          0\n",
              "doornumber          0\n",
              "carbody             0\n",
              "drivewheel          0\n",
              "enginelocation      0\n",
              "wheelbase           0\n",
              "carlength           0\n",
              "carwidth            0\n",
              "carheight           0\n",
              "curbweight          0\n",
              "enginetype          0\n",
              "cylindernumber      0\n",
              "enginesize          0\n",
              "fuelsystem          0\n",
              "boreratio           0\n",
              "stroke              0\n",
              "compressionratio    0\n",
              "horsepower          0\n",
              "peakrpm             0\n",
              "citympg             0\n",
              "highwaympg          0\n",
              "dtype: int64"
            ]
          },
          "metadata": {
            "tags": []
          },
          "execution_count": 31
        }
      ]
    },
    {
      "cell_type": "code",
      "metadata": {
        "colab": {
          "base_uri": "https://localhost:8080/"
        },
        "id": "b10JCnHoGBq7",
        "outputId": "c5a8cb58-4d92-4d83-973b-258cdc8126fb"
      },
      "source": [
        "train_data.fillna(0, inplace = True)\n",
        "train_data.isna().sum()"
      ],
      "execution_count": 24,
      "outputs": [
        {
          "output_type": "stream",
          "text": [
            "/usr/local/lib/python3.7/dist-packages/pandas/core/frame.py:4327: SettingWithCopyWarning: \n",
            "A value is trying to be set on a copy of a slice from a DataFrame\n",
            "\n",
            "See the caveats in the documentation: https://pandas.pydata.org/pandas-docs/stable/user_guide/indexing.html#returning-a-view-versus-a-copy\n",
            "  downcast=downcast,\n"
          ],
          "name": "stderr"
        },
        {
          "output_type": "execute_result",
          "data": {
            "text/plain": [
              "symboling           0\n",
              "fueltype            0\n",
              "aspiration          0\n",
              "doornumber          0\n",
              "carbody             0\n",
              "drivewheel          0\n",
              "enginelocation      0\n",
              "wheelbase           0\n",
              "carlength           0\n",
              "carwidth            0\n",
              "carheight           0\n",
              "curbweight          0\n",
              "enginetype          0\n",
              "cylindernumber      0\n",
              "enginesize          0\n",
              "fuelsystem          0\n",
              "boreratio           0\n",
              "stroke              0\n",
              "compressionratio    0\n",
              "horsepower          0\n",
              "peakrpm             0\n",
              "citympg             0\n",
              "highwaympg          0\n",
              "dtype: int64"
            ]
          },
          "metadata": {
            "tags": []
          },
          "execution_count": 24
        }
      ]
    },
    {
      "cell_type": "code",
      "metadata": {
        "colab": {
          "base_uri": "https://localhost:8080/"
        },
        "id": "6UrP4EsmGHoV",
        "outputId": "516a2f7f-38f2-47b7-d82f-aa9d755a89cf"
      },
      "source": [
        "test_data.fillna(0, inplace=True)\n",
        "test_data.isna().sum()"
      ],
      "execution_count": 23,
      "outputs": [
        {
          "output_type": "stream",
          "text": [
            "/usr/local/lib/python3.7/dist-packages/pandas/core/frame.py:4327: SettingWithCopyWarning: \n",
            "A value is trying to be set on a copy of a slice from a DataFrame\n",
            "\n",
            "See the caveats in the documentation: https://pandas.pydata.org/pandas-docs/stable/user_guide/indexing.html#returning-a-view-versus-a-copy\n",
            "  downcast=downcast,\n"
          ],
          "name": "stderr"
        },
        {
          "output_type": "execute_result",
          "data": {
            "text/plain": [
              "symboling           0\n",
              "fueltype            0\n",
              "aspiration          0\n",
              "doornumber          0\n",
              "carbody             0\n",
              "drivewheel          0\n",
              "enginelocation      0\n",
              "wheelbase           0\n",
              "carlength           0\n",
              "carwidth            0\n",
              "carheight           0\n",
              "curbweight          0\n",
              "enginetype          0\n",
              "cylindernumber      0\n",
              "enginesize          0\n",
              "fuelsystem          0\n",
              "boreratio           0\n",
              "stroke              0\n",
              "compressionratio    0\n",
              "horsepower          0\n",
              "peakrpm             0\n",
              "citympg             0\n",
              "highwaympg          0\n",
              "dtype: int64"
            ]
          },
          "metadata": {
            "tags": []
          },
          "execution_count": 23
        }
      ]
    },
    {
      "cell_type": "code",
      "metadata": {
        "colab": {
          "base_uri": "https://localhost:8080/"
        },
        "id": "vR7uyAemHT2W",
        "outputId": "9f6b0d81-9a5b-43f0-f809-527eb11f3d61"
      },
      "source": [
        "from keras import models\n",
        "from keras import layers\n",
        "from tensorflow.keras import regularizers\n",
        "model = models.Sequential()\n",
        "model.add(layers.Dense(10, kernel_regularizer=regularizers.l2(0.01),activation='relu',input_shape=(train_data.iloc[1].shape)))\n",
        "model.add(layers.Dropout(0.5))\n",
        "\n",
        "#model.add(layers.Dropout(0.5))\n",
        "\n",
        "model.add(layers.Dense(5,kernel_regularizer=regularizers.l2(0.01),activation='relu'))\n",
        "\n",
        "model.add(layers.Dense(1))\n",
        "model.compile(optimizer='rmsprop', loss='mse', metrics=['mae'])\n",
        "his=model.fit(train_data,train_targets,epochs=150,batch_size=1,validation_data=(val_data,val_targets))"
      ],
      "execution_count": 32,
      "outputs": [
        {
          "output_type": "stream",
          "text": [
            "Epoch 1/150\n",
            "103/103 [==============================] - 1s 3ms/step - loss: 247146874.6923 - mae: 13000.0123 - val_loss: 191473056.0000 - val_mae: 11652.8428\n",
            "Epoch 2/150\n",
            "103/103 [==============================] - 0s 2ms/step - loss: 130510657.3462 - mae: 9186.9921 - val_loss: 141240720.0000 - val_mae: 9319.0547\n",
            "Epoch 3/150\n",
            "103/103 [==============================] - 0s 2ms/step - loss: 195188632.7308 - mae: 9761.7542 - val_loss: 103079552.0000 - val_mae: 7230.9009\n",
            "Epoch 4/150\n",
            "103/103 [==============================] - 0s 2ms/step - loss: 128883205.4014 - mae: 7406.0405 - val_loss: 82952728.0000 - val_mae: 6074.8760\n",
            "Epoch 5/150\n",
            "103/103 [==============================] - 0s 2ms/step - loss: 85048118.9976 - mae: 6820.7797 - val_loss: 69849224.0000 - val_mae: 5600.3975\n",
            "Epoch 6/150\n",
            "103/103 [==============================] - 0s 2ms/step - loss: 126384322.0000 - mae: 7629.8932 - val_loss: 65314112.0000 - val_mae: 5457.6245\n",
            "Epoch 7/150\n",
            "103/103 [==============================] - 0s 2ms/step - loss: 97957786.1779 - mae: 6972.0200 - val_loss: 57794108.0000 - val_mae: 5183.2979\n",
            "Epoch 8/150\n",
            "103/103 [==============================] - 0s 2ms/step - loss: 97368545.2921 - mae: 7686.6688 - val_loss: 57466152.0000 - val_mae: 5169.6230\n",
            "Epoch 9/150\n",
            "103/103 [==============================] - 0s 2ms/step - loss: 87603757.6731 - mae: 6618.0244 - val_loss: 57751808.0000 - val_mae: 5175.7246\n",
            "Epoch 10/150\n",
            "103/103 [==============================] - 0s 2ms/step - loss: 70595265.9423 - mae: 5605.5594 - val_loss: 56174380.0000 - val_mae: 5121.1719\n",
            "Epoch 11/150\n",
            "103/103 [==============================] - 0s 2ms/step - loss: 78137237.6971 - mae: 6199.8357 - val_loss: 54909952.0000 - val_mae: 5077.2651\n",
            "Epoch 12/150\n",
            "103/103 [==============================] - 0s 2ms/step - loss: 54448226.9231 - mae: 5618.1223 - val_loss: 54548180.0000 - val_mae: 5058.2178\n",
            "Epoch 13/150\n",
            "103/103 [==============================] - 0s 2ms/step - loss: 70741528.4856 - mae: 6275.3902 - val_loss: 54578732.0000 - val_mae: 5051.9751\n",
            "Epoch 14/150\n",
            "103/103 [==============================] - 0s 2ms/step - loss: 78727396.4615 - mae: 5832.8519 - val_loss: 54504568.0000 - val_mae: 5043.4976\n",
            "Epoch 15/150\n",
            "103/103 [==============================] - 0s 2ms/step - loss: 138267826.3077 - mae: 7643.1042 - val_loss: 55897188.0000 - val_mae: 5086.6807\n",
            "Epoch 16/150\n",
            "103/103 [==============================] - 0s 2ms/step - loss: 115994095.7692 - mae: 7609.9053 - val_loss: 54389668.0000 - val_mae: 5028.4565\n",
            "Epoch 17/150\n",
            "103/103 [==============================] - 0s 2ms/step - loss: 66304248.6154 - mae: 5930.7079 - val_loss: 55994984.0000 - val_mae: 5081.1582\n",
            "Epoch 18/150\n",
            "103/103 [==============================] - 0s 2ms/step - loss: 109602956.1538 - mae: 7366.4278 - val_loss: 54901892.0000 - val_mae: 5036.9736\n",
            "Epoch 19/150\n",
            "103/103 [==============================] - 0s 2ms/step - loss: 81100525.7212 - mae: 6228.0632 - val_loss: 56332740.0000 - val_mae: 5090.3540\n",
            "Epoch 20/150\n",
            "103/103 [==============================] - 0s 2ms/step - loss: 74078359.4519 - mae: 5858.3284 - val_loss: 53844096.0000 - val_mae: 4992.6353\n",
            "Epoch 21/150\n",
            "103/103 [==============================] - 0s 2ms/step - loss: 74315607.6154 - mae: 6434.2129 - val_loss: 57358748.0000 - val_mae: 5124.7671\n",
            "Epoch 22/150\n",
            "103/103 [==============================] - 0s 2ms/step - loss: 58473914.3954 - mae: 5572.7870 - val_loss: 53332052.0000 - val_mae: 4966.8696\n",
            "Epoch 23/150\n",
            "103/103 [==============================] - 0s 2ms/step - loss: 58866765.1202 - mae: 5571.5724 - val_loss: 53023100.0000 - val_mae: 4952.7241\n",
            "Epoch 24/150\n",
            "103/103 [==============================] - 0s 2ms/step - loss: 78409925.4327 - mae: 5951.1926 - val_loss: 52998268.0000 - val_mae: 4947.2041\n",
            "Epoch 25/150\n",
            "103/103 [==============================] - 0s 2ms/step - loss: 82516959.1346 - mae: 5939.2136 - val_loss: 52083560.0000 - val_mae: 4909.5073\n",
            "Epoch 26/150\n",
            "103/103 [==============================] - 0s 2ms/step - loss: 79296138.3462 - mae: 6021.2953 - val_loss: 54315472.0000 - val_mae: 4990.0391\n",
            "Epoch 27/150\n",
            "103/103 [==============================] - 0s 2ms/step - loss: 48390414.8462 - mae: 4587.3732 - val_loss: 51166496.0000 - val_mae: 4867.0093\n",
            "Epoch 28/150\n",
            "103/103 [==============================] - 0s 2ms/step - loss: 90290899.8846 - mae: 6180.9497 - val_loss: 51908600.0000 - val_mae: 4892.9248\n",
            "Epoch 29/150\n",
            "103/103 [==============================] - 0s 2ms/step - loss: 85694558.1538 - mae: 7216.0920 - val_loss: 53234132.0000 - val_mae: 4936.9072\n",
            "Epoch 30/150\n",
            "103/103 [==============================] - 0s 2ms/step - loss: 73313814.2139 - mae: 5908.3485 - val_loss: 53913044.0000 - val_mae: 4959.5181\n",
            "Epoch 31/150\n",
            "103/103 [==============================] - 0s 2ms/step - loss: 70176827.6923 - mae: 6095.5693 - val_loss: 56720168.0000 - val_mae: 5062.7056\n",
            "Epoch 32/150\n",
            "103/103 [==============================] - 0s 2ms/step - loss: 51805076.8269 - mae: 5103.6390 - val_loss: 54265480.0000 - val_mae: 4965.4819\n",
            "Epoch 33/150\n",
            "103/103 [==============================] - 0s 2ms/step - loss: 50710509.2019 - mae: 4833.9231 - val_loss: 53246752.0000 - val_mae: 4922.8896\n",
            "Epoch 34/150\n",
            "103/103 [==============================] - 0s 2ms/step - loss: 70329074.5000 - mae: 5716.9834 - val_loss: 51045824.0000 - val_mae: 4833.8755\n",
            "Epoch 35/150\n",
            "103/103 [==============================] - 0s 2ms/step - loss: 50662445.8462 - mae: 5525.8144 - val_loss: 52986860.0000 - val_mae: 4906.7754\n",
            "Epoch 36/150\n",
            "103/103 [==============================] - 0s 2ms/step - loss: 62870787.4519 - mae: 5746.6738 - val_loss: 53370380.0000 - val_mae: 4917.2715\n",
            "Epoch 37/150\n",
            "103/103 [==============================] - 0s 2ms/step - loss: 62569990.9445 - mae: 5738.6437 - val_loss: 52151056.0000 - val_mae: 4865.7847\n",
            "Epoch 38/150\n",
            "103/103 [==============================] - 0s 2ms/step - loss: 85607667.5000 - mae: 6254.9681 - val_loss: 52180756.0000 - val_mae: 4862.4600\n",
            "Epoch 39/150\n",
            "103/103 [==============================] - 0s 2ms/step - loss: 55161768.2776 - mae: 5347.2793 - val_loss: 53855304.0000 - val_mae: 4924.3794\n",
            "Epoch 40/150\n",
            "103/103 [==============================] - 0s 2ms/step - loss: 77789776.2404 - mae: 6211.7597 - val_loss: 50583476.0000 - val_mae: 4787.7578\n",
            "Epoch 41/150\n",
            "103/103 [==============================] - 0s 2ms/step - loss: 88520475.9327 - mae: 6664.3957 - val_loss: 47367676.0000 - val_mae: 4658.6440\n",
            "Epoch 42/150\n",
            "103/103 [==============================] - 0s 2ms/step - loss: 114065336.7692 - mae: 7009.5890 - val_loss: 49874332.0000 - val_mae: 4749.7842\n",
            "Epoch 43/150\n",
            "103/103 [==============================] - 0s 2ms/step - loss: 79837279.4615 - mae: 5983.3900 - val_loss: 52678808.0000 - val_mae: 4859.0630\n",
            "Epoch 44/150\n",
            "103/103 [==============================] - 0s 2ms/step - loss: 45911761.1394 - mae: 4840.1397 - val_loss: 49957844.0000 - val_mae: 4744.8047\n",
            "Epoch 45/150\n",
            "103/103 [==============================] - 0s 2ms/step - loss: 78939689.8846 - mae: 6580.2203 - val_loss: 56912772.0000 - val_mae: 4996.3452\n",
            "Epoch 46/150\n",
            "103/103 [==============================] - 0s 2ms/step - loss: 74681356.9519 - mae: 6084.7571 - val_loss: 53474376.0000 - val_mae: 4871.4751\n",
            "Epoch 47/150\n",
            "103/103 [==============================] - 0s 2ms/step - loss: 38454574.9375 - mae: 4642.4871 - val_loss: 54567216.0000 - val_mae: 4902.8628\n",
            "Epoch 48/150\n",
            "103/103 [==============================] - 0s 2ms/step - loss: 71647487.2720 - mae: 5957.7658 - val_loss: 53538220.0000 - val_mae: 4857.9497\n",
            "Epoch 49/150\n",
            "103/103 [==============================] - 0s 2ms/step - loss: 62353063.2308 - mae: 5836.8298 - val_loss: 54521024.0000 - val_mae: 4886.4785\n",
            "Epoch 50/150\n",
            "103/103 [==============================] - 0s 2ms/step - loss: 55402915.7921 - mae: 4941.6613 - val_loss: 49849740.0000 - val_mae: 4707.8501\n",
            "Epoch 51/150\n",
            "103/103 [==============================] - 0s 2ms/step - loss: 64705411.3846 - mae: 5360.8078 - val_loss: 49074588.0000 - val_mae: 4669.3604\n",
            "Epoch 52/150\n",
            "103/103 [==============================] - 0s 2ms/step - loss: 53127073.4639 - mae: 5116.7594 - val_loss: 48232632.0000 - val_mae: 4628.8599\n",
            "Epoch 53/150\n",
            "103/103 [==============================] - 0s 2ms/step - loss: 75036106.6923 - mae: 6533.7763 - val_loss: 48076760.0000 - val_mae: 4613.5078\n",
            "Epoch 54/150\n",
            "103/103 [==============================] - 0s 2ms/step - loss: 64085544.9231 - mae: 5663.6854 - val_loss: 50251108.0000 - val_mae: 4689.5859\n",
            "Epoch 55/150\n",
            "103/103 [==============================] - 0s 2ms/step - loss: 62757188.9615 - mae: 5767.1253 - val_loss: 50360004.0000 - val_mae: 4685.1538\n",
            "Epoch 56/150\n",
            "103/103 [==============================] - 0s 2ms/step - loss: 45279624.7308 - mae: 4592.5544 - val_loss: 51539660.0000 - val_mae: 4719.5972\n",
            "Epoch 57/150\n",
            "103/103 [==============================] - 0s 2ms/step - loss: 58299209.1058 - mae: 5439.6868 - val_loss: 51708700.0000 - val_mae: 4715.6572\n",
            "Epoch 58/150\n",
            "103/103 [==============================] - 0s 2ms/step - loss: 47546545.4038 - mae: 4524.4229 - val_loss: 47290796.0000 - val_mae: 4544.8354\n",
            "Epoch 59/150\n",
            "103/103 [==============================] - 0s 2ms/step - loss: 40108283.1154 - mae: 4437.8495 - val_loss: 48212180.0000 - val_mae: 4572.8022\n",
            "Epoch 60/150\n",
            "103/103 [==============================] - 0s 2ms/step - loss: 69899926.3365 - mae: 5545.6340 - val_loss: 49123516.0000 - val_mae: 4598.4995\n",
            "Epoch 61/150\n",
            "103/103 [==============================] - 0s 2ms/step - loss: 51220066.1827 - mae: 4911.7105 - val_loss: 47261252.0000 - val_mae: 4521.3994\n",
            "Epoch 62/150\n",
            "103/103 [==============================] - 0s 2ms/step - loss: 46215735.4952 - mae: 4817.0775 - val_loss: 46768960.0000 - val_mae: 4491.5098\n",
            "Epoch 63/150\n",
            "103/103 [==============================] - 0s 2ms/step - loss: 66352514.8846 - mae: 5405.8695 - val_loss: 44402056.0000 - val_mae: 4388.7915\n",
            "Epoch 64/150\n",
            "103/103 [==============================] - 0s 2ms/step - loss: 65024023.6346 - mae: 5823.4083 - val_loss: 45741312.0000 - val_mae: 4434.0991\n",
            "Epoch 65/150\n",
            "103/103 [==============================] - 0s 2ms/step - loss: 50708391.3996 - mae: 5137.5418 - val_loss: 45344352.0000 - val_mae: 4409.7695\n",
            "Epoch 66/150\n",
            "103/103 [==============================] - 0s 2ms/step - loss: 64847196.1154 - mae: 6431.0661 - val_loss: 48147700.0000 - val_mae: 4505.7852\n",
            "Epoch 67/150\n",
            "103/103 [==============================] - 0s 2ms/step - loss: 74386509.7308 - mae: 5555.4519 - val_loss: 49858496.0000 - val_mae: 4554.8652\n",
            "Epoch 68/150\n",
            "103/103 [==============================] - 0s 2ms/step - loss: 99124697.6154 - mae: 6417.8520 - val_loss: 45043044.0000 - val_mae: 4370.8833\n",
            "Epoch 69/150\n",
            "103/103 [==============================] - 0s 2ms/step - loss: 70929480.6250 - mae: 5602.1515 - val_loss: 52108664.0000 - val_mae: 4643.6318\n",
            "Epoch 70/150\n",
            "103/103 [==============================] - 0s 2ms/step - loss: 110206914.8846 - mae: 6488.9219 - val_loss: 43412360.0000 - val_mae: 4276.9575\n",
            "Epoch 71/150\n",
            "103/103 [==============================] - 0s 2ms/step - loss: 49451051.3942 - mae: 4896.4687 - val_loss: 45580464.0000 - val_mae: 4351.6768\n",
            "Epoch 72/150\n",
            "103/103 [==============================] - 0s 2ms/step - loss: 53493022.8242 - mae: 4777.6619 - val_loss: 47489512.0000 - val_mae: 4416.7749\n",
            "Epoch 73/150\n",
            "103/103 [==============================] - 0s 2ms/step - loss: 43435465.6731 - mae: 4197.0913 - val_loss: 44534128.0000 - val_mae: 4287.4766\n",
            "Epoch 74/150\n",
            "103/103 [==============================] - 0s 2ms/step - loss: 38094173.5577 - mae: 4294.3094 - val_loss: 46337796.0000 - val_mae: 4353.3057\n",
            "Epoch 75/150\n",
            "103/103 [==============================] - 0s 2ms/step - loss: 28717627.7740 - mae: 3358.8565 - val_loss: 41028360.0000 - val_mae: 4125.8647\n",
            "Epoch 76/150\n",
            "103/103 [==============================] - 0s 2ms/step - loss: 57607050.5403 - mae: 5342.4863 - val_loss: 39207204.0000 - val_mae: 4035.5073\n",
            "Epoch 77/150\n",
            "103/103 [==============================] - 0s 2ms/step - loss: 38637960.9279 - mae: 3997.4601 - val_loss: 41229356.0000 - val_mae: 4112.5859\n",
            "Epoch 78/150\n",
            "103/103 [==============================] - 0s 2ms/step - loss: 41626239.3077 - mae: 4567.4936 - val_loss: 39825064.0000 - val_mae: 4039.4492\n",
            "Epoch 79/150\n",
            "103/103 [==============================] - 0s 2ms/step - loss: 33421034.5998 - mae: 3944.8169 - val_loss: 37577272.0000 - val_mae: 3930.2849\n",
            "Epoch 80/150\n",
            "103/103 [==============================] - 0s 2ms/step - loss: 42886701.4423 - mae: 4838.9891 - val_loss: 39246844.0000 - val_mae: 3993.7300\n",
            "Epoch 81/150\n",
            "103/103 [==============================] - 0s 2ms/step - loss: 46115016.2514 - mae: 4613.7994 - val_loss: 42542676.0000 - val_mae: 4140.6089\n",
            "Epoch 82/150\n",
            "103/103 [==============================] - 0s 2ms/step - loss: 69642949.8413 - mae: 5415.4158 - val_loss: 40444620.0000 - val_mae: 4037.4976\n",
            "Epoch 83/150\n",
            "103/103 [==============================] - 0s 2ms/step - loss: 47728066.0252 - mae: 4363.7526 - val_loss: 42071656.0000 - val_mae: 4111.8965\n",
            "Epoch 84/150\n",
            "103/103 [==============================] - 0s 2ms/step - loss: 44025957.4135 - mae: 4751.4502 - val_loss: 42689048.0000 - val_mae: 4156.8677\n",
            "Epoch 85/150\n",
            "103/103 [==============================] - 0s 2ms/step - loss: 49960826.6587 - mae: 4870.1739 - val_loss: 40754824.0000 - val_mae: 4040.2830\n",
            "Epoch 86/150\n",
            "103/103 [==============================] - 0s 2ms/step - loss: 50045606.6442 - mae: 4946.5875 - val_loss: 42213844.0000 - val_mae: 4151.8984\n",
            "Epoch 87/150\n",
            "103/103 [==============================] - 0s 2ms/step - loss: 54596366.9928 - mae: 4682.2871 - val_loss: 42136384.0000 - val_mae: 4159.3691\n",
            "Epoch 88/150\n",
            "103/103 [==============================] - 0s 2ms/step - loss: 55001157.8702 - mae: 4433.1941 - val_loss: 43560916.0000 - val_mae: 4291.8262\n",
            "Epoch 89/150\n",
            "103/103 [==============================] - 0s 2ms/step - loss: 41558031.0962 - mae: 4500.4988 - val_loss: 38263656.0000 - val_mae: 3888.0374\n",
            "Epoch 90/150\n",
            "103/103 [==============================] - 0s 2ms/step - loss: 63159870.4231 - mae: 5252.6866 - val_loss: 45836104.0000 - val_mae: 4503.7710\n",
            "Epoch 91/150\n",
            "103/103 [==============================] - 0s 2ms/step - loss: 50303908.3101 - mae: 4578.0771 - val_loss: 36968328.0000 - val_mae: 3805.6738\n",
            "Epoch 92/150\n",
            "103/103 [==============================] - 0s 2ms/step - loss: 36878687.3125 - mae: 4068.6588 - val_loss: 40365736.0000 - val_mae: 4082.7996\n",
            "Epoch 93/150\n",
            "103/103 [==============================] - 0s 2ms/step - loss: 70481063.5679 - mae: 5070.4398 - val_loss: 39286888.0000 - val_mae: 4013.8132\n",
            "Epoch 94/150\n",
            "103/103 [==============================] - 0s 2ms/step - loss: 25426791.0096 - mae: 3239.8014 - val_loss: 36009036.0000 - val_mae: 3765.4131\n",
            "Epoch 95/150\n",
            "103/103 [==============================] - 0s 2ms/step - loss: 46504273.1538 - mae: 4573.8040 - val_loss: 40474616.0000 - val_mae: 4147.9395\n",
            "Epoch 96/150\n",
            "103/103 [==============================] - 0s 2ms/step - loss: 46033603.4841 - mae: 4637.2663 - val_loss: 37366700.0000 - val_mae: 3911.0669\n",
            "Epoch 97/150\n",
            "103/103 [==============================] - 0s 2ms/step - loss: 43332804.7248 - mae: 4635.0948 - val_loss: 36523224.0000 - val_mae: 3857.7651\n",
            "Epoch 98/150\n",
            "103/103 [==============================] - 0s 2ms/step - loss: 20905625.0673 - mae: 3361.1968 - val_loss: 30943760.0000 - val_mae: 3433.3413\n",
            "Epoch 99/150\n",
            "103/103 [==============================] - 0s 2ms/step - loss: 30554632.3220 - mae: 4264.5633 - val_loss: 36513160.0000 - val_mae: 3866.3525\n",
            "Epoch 100/150\n",
            "103/103 [==============================] - 0s 2ms/step - loss: 44139797.6635 - mae: 4578.1688 - val_loss: 38868348.0000 - val_mae: 4104.6221\n",
            "Epoch 101/150\n",
            "103/103 [==============================] - 0s 2ms/step - loss: 25818944.7308 - mae: 3612.0697 - val_loss: 38090316.0000 - val_mae: 4051.5225\n",
            "Epoch 102/150\n",
            "103/103 [==============================] - 0s 2ms/step - loss: 32321334.5865 - mae: 4126.9956 - val_loss: 37768184.0000 - val_mae: 4033.0964\n",
            "Epoch 103/150\n",
            "103/103 [==============================] - 0s 2ms/step - loss: 40392067.4135 - mae: 4222.5980 - val_loss: 37562756.0000 - val_mae: 4032.6431\n",
            "Epoch 104/150\n",
            "103/103 [==============================] - 0s 2ms/step - loss: 46611826.9615 - mae: 5079.8340 - val_loss: 39445784.0000 - val_mae: 4204.1982\n",
            "Epoch 105/150\n",
            "103/103 [==============================] - 0s 2ms/step - loss: 50928036.3269 - mae: 4560.9787 - val_loss: 33836224.0000 - val_mae: 3725.0732\n",
            "Epoch 106/150\n",
            "103/103 [==============================] - 0s 2ms/step - loss: 45184869.8846 - mae: 4842.9174 - val_loss: 35273004.0000 - val_mae: 3883.5745\n",
            "Epoch 107/150\n",
            "103/103 [==============================] - 0s 2ms/step - loss: 51953752.1731 - mae: 5030.3727 - val_loss: 37342112.0000 - val_mae: 4098.2773\n",
            "Epoch 108/150\n",
            "103/103 [==============================] - 0s 2ms/step - loss: 41308406.8341 - mae: 3981.8615 - val_loss: 33854820.0000 - val_mae: 3778.1750\n",
            "Epoch 109/150\n",
            "103/103 [==============================] - 0s 2ms/step - loss: 32393665.0841 - mae: 3772.7359 - val_loss: 31412822.0000 - val_mae: 3570.4895\n",
            "Epoch 110/150\n",
            "103/103 [==============================] - 0s 2ms/step - loss: 52130925.3269 - mae: 4934.9890 - val_loss: 32077132.0000 - val_mae: 3637.4062\n",
            "Epoch 111/150\n",
            "103/103 [==============================] - 0s 2ms/step - loss: 25653823.8053 - mae: 3626.1124 - val_loss: 29993242.0000 - val_mae: 3464.6055\n",
            "Epoch 112/150\n",
            "103/103 [==============================] - 0s 2ms/step - loss: 51000514.6731 - mae: 4755.7804 - val_loss: 36067068.0000 - val_mae: 4094.1692\n",
            "Epoch 113/150\n",
            "103/103 [==============================] - 0s 2ms/step - loss: 38900796.5278 - mae: 4257.5544 - val_loss: 30767524.0000 - val_mae: 3559.4692\n",
            "Epoch 114/150\n",
            "103/103 [==============================] - 0s 2ms/step - loss: 44401774.6442 - mae: 4509.7422 - val_loss: 39298292.0000 - val_mae: 4436.5386\n",
            "Epoch 115/150\n",
            "103/103 [==============================] - 0s 2ms/step - loss: 32583490.4748 - mae: 4139.0015 - val_loss: 36619252.0000 - val_mae: 4205.8877\n",
            "Epoch 116/150\n",
            "103/103 [==============================] - 0s 2ms/step - loss: 39547711.1538 - mae: 3863.4283 - val_loss: 33635776.0000 - val_mae: 3919.6223\n",
            "Epoch 117/150\n",
            "103/103 [==============================] - 0s 2ms/step - loss: 49517053.1058 - mae: 4319.0022 - val_loss: 28006360.0000 - val_mae: 3321.4229\n",
            "Epoch 118/150\n",
            "103/103 [==============================] - 0s 2ms/step - loss: 41104646.8828 - mae: 4198.6489 - val_loss: 26343100.0000 - val_mae: 3163.1104\n",
            "Epoch 119/150\n",
            "103/103 [==============================] - 0s 2ms/step - loss: 35392284.1346 - mae: 4010.8985 - val_loss: 27391308.0000 - val_mae: 3285.3533\n",
            "Epoch 120/150\n",
            "103/103 [==============================] - 0s 2ms/step - loss: 42756809.9327 - mae: 4360.5435 - val_loss: 31400996.0000 - val_mae: 3722.6394\n",
            "Epoch 121/150\n",
            "103/103 [==============================] - 0s 2ms/step - loss: 23528494.0673 - mae: 3278.2851 - val_loss: 33663160.0000 - val_mae: 4012.7114\n",
            "Epoch 122/150\n",
            "103/103 [==============================] - 0s 2ms/step - loss: 27418968.0625 - mae: 3668.1531 - val_loss: 33004422.0000 - val_mae: 3970.3232\n",
            "Epoch 123/150\n",
            "103/103 [==============================] - 0s 2ms/step - loss: 74407138.3894 - mae: 5156.7152 - val_loss: 33466190.0000 - val_mae: 4033.4856\n",
            "Epoch 124/150\n",
            "103/103 [==============================] - 0s 2ms/step - loss: 47339918.6394 - mae: 4395.9319 - val_loss: 32464958.0000 - val_mae: 3937.7781\n",
            "Epoch 125/150\n",
            "103/103 [==============================] - 0s 2ms/step - loss: 45694083.3365 - mae: 4280.7742 - val_loss: 35297908.0000 - val_mae: 4222.7676\n",
            "Epoch 126/150\n",
            "103/103 [==============================] - 0s 2ms/step - loss: 34726223.7115 - mae: 3984.9078 - val_loss: 28715132.0000 - val_mae: 3577.7825\n",
            "Epoch 127/150\n",
            "103/103 [==============================] - 0s 2ms/step - loss: 43554397.5192 - mae: 4551.2426 - val_loss: 32385980.0000 - val_mae: 3964.6680\n",
            "Epoch 128/150\n",
            "103/103 [==============================] - 0s 2ms/step - loss: 24209563.5769 - mae: 3373.1664 - val_loss: 25146100.0000 - val_mae: 3205.4546\n",
            "Epoch 129/150\n",
            "103/103 [==============================] - 0s 2ms/step - loss: 40214016.8101 - mae: 4312.5789 - val_loss: 29808306.0000 - val_mae: 3735.1189\n",
            "Epoch 130/150\n",
            "103/103 [==============================] - 0s 2ms/step - loss: 55299467.8498 - mae: 4911.8037 - val_loss: 28828748.0000 - val_mae: 3641.0532\n",
            "Epoch 131/150\n",
            "103/103 [==============================] - 0s 2ms/step - loss: 37473837.1827 - mae: 3793.6306 - val_loss: 32513532.0000 - val_mae: 4043.5413\n",
            "Epoch 132/150\n",
            "103/103 [==============================] - 0s 2ms/step - loss: 48600444.5962 - mae: 4057.5158 - val_loss: 28274446.0000 - val_mae: 3605.8999\n",
            "Epoch 133/150\n",
            "103/103 [==============================] - 0s 2ms/step - loss: 50565367.9423 - mae: 4769.7967 - val_loss: 25814684.0000 - val_mae: 3342.7959\n",
            "Epoch 134/150\n",
            "103/103 [==============================] - 0s 2ms/step - loss: 30299425.2533 - mae: 3948.3930 - val_loss: 24681668.0000 - val_mae: 3188.6313\n",
            "Epoch 135/150\n",
            "103/103 [==============================] - 0s 2ms/step - loss: 40044841.1346 - mae: 4395.5570 - val_loss: 29403214.0000 - val_mae: 3757.1775\n",
            "Epoch 136/150\n",
            "103/103 [==============================] - 0s 2ms/step - loss: 28297986.0282 - mae: 3794.4286 - val_loss: 28460124.0000 - val_mae: 3694.5105\n",
            "Epoch 137/150\n",
            "103/103 [==============================] - 0s 2ms/step - loss: 58105583.5938 - mae: 4701.6728 - val_loss: 28788654.0000 - val_mae: 3770.4651\n",
            "Epoch 138/150\n",
            "103/103 [==============================] - 0s 2ms/step - loss: 43024333.8462 - mae: 3959.4812 - val_loss: 30970006.0000 - val_mae: 4000.3113\n",
            "Epoch 139/150\n",
            "103/103 [==============================] - 0s 2ms/step - loss: 41329957.7344 - mae: 4049.4574 - val_loss: 33269448.0000 - val_mae: 4268.7510\n",
            "Epoch 140/150\n",
            "103/103 [==============================] - 0s 2ms/step - loss: 29126528.1587 - mae: 3430.7226 - val_loss: 27843794.0000 - val_mae: 3657.0945\n",
            "Epoch 141/150\n",
            "103/103 [==============================] - 0s 2ms/step - loss: 43042235.8606 - mae: 4031.8190 - val_loss: 24235110.0000 - val_mae: 3288.4517\n",
            "Epoch 142/150\n",
            "103/103 [==============================] - 0s 2ms/step - loss: 25031058.5962 - mae: 3519.7564 - val_loss: 22136016.0000 - val_mae: 3081.0203\n",
            "Epoch 143/150\n",
            "103/103 [==============================] - 0s 2ms/step - loss: 39387299.8317 - mae: 4380.7291 - val_loss: 32988686.0000 - val_mae: 4299.6206\n",
            "Epoch 144/150\n",
            "103/103 [==============================] - 0s 2ms/step - loss: 28837074.3654 - mae: 3781.5792 - val_loss: 25933926.0000 - val_mae: 3529.1455\n",
            "Epoch 145/150\n",
            "103/103 [==============================] - 0s 2ms/step - loss: 72265841.5000 - mae: 5380.2541 - val_loss: 30583292.0000 - val_mae: 4035.8013\n",
            "Epoch 146/150\n",
            "103/103 [==============================] - 0s 2ms/step - loss: 26769765.4243 - mae: 3377.1505 - val_loss: 26411770.0000 - val_mae: 3562.4924\n",
            "Epoch 147/150\n",
            "103/103 [==============================] - 0s 2ms/step - loss: 24523534.9093 - mae: 3233.1182 - val_loss: 27484274.0000 - val_mae: 3717.2495\n",
            "Epoch 148/150\n",
            "103/103 [==============================] - 0s 2ms/step - loss: 43843162.2115 - mae: 4309.9996 - val_loss: 27973602.0000 - val_mae: 3780.6875\n",
            "Epoch 149/150\n",
            "103/103 [==============================] - 0s 2ms/step - loss: 23740196.4904 - mae: 3532.4789 - val_loss: 28437268.0000 - val_mae: 3838.0742\n",
            "Epoch 150/150\n",
            "103/103 [==============================] - 0s 2ms/step - loss: 41933789.1224 - mae: 3677.7600 - val_loss: 32989456.0000 - val_mae: 4301.7661\n"
          ],
          "name": "stdout"
        }
      ]
    },
    {
      "cell_type": "code",
      "metadata": {
        "colab": {
          "base_uri": "https://localhost:8080/"
        },
        "id": "Ev_7QsuHIM4w",
        "outputId": "e84fd8dd-c51a-45e2-90e3-eb4278db9843"
      },
      "source": [
        "model.evaluate(test_data,test_targets)"
      ],
      "execution_count": 33,
      "outputs": [
        {
          "output_type": "stream",
          "text": [
            "2/2 [==============================] - 0s 7ms/step - loss: 41437036.0000 - mae: 4014.1606\n"
          ],
          "name": "stdout"
        },
        {
          "output_type": "execute_result",
          "data": {
            "text/plain": [
              "[41437036.0, 4014.16064453125]"
            ]
          },
          "metadata": {
            "tags": []
          },
          "execution_count": 33
        }
      ]
    },
    {
      "cell_type": "code",
      "metadata": {
        "colab": {
          "base_uri": "https://localhost:8080/"
        },
        "id": "_IKaHjl0MiIE",
        "outputId": "3110255f-cf2d-4123-8460-7ca8e68753d4"
      },
      "source": [
        "model.summary()"
      ],
      "execution_count": 34,
      "outputs": [
        {
          "output_type": "stream",
          "text": [
            "Model: \"sequential_3\"\n",
            "_________________________________________________________________\n",
            "Layer (type)                 Output Shape              Param #   \n",
            "=================================================================\n",
            "dense_6 (Dense)              (None, 10)                240       \n",
            "_________________________________________________________________\n",
            "dropout_2 (Dropout)          (None, 10)                0         \n",
            "_________________________________________________________________\n",
            "dense_7 (Dense)              (None, 5)                 55        \n",
            "_________________________________________________________________\n",
            "dense_8 (Dense)              (None, 1)                 6         \n",
            "=================================================================\n",
            "Total params: 301\n",
            "Trainable params: 301\n",
            "Non-trainable params: 0\n",
            "_________________________________________________________________\n"
          ],
          "name": "stdout"
        }
      ]
    },
    {
      "cell_type": "code",
      "metadata": {
        "colab": {
          "base_uri": "https://localhost:8080/",
          "height": 284
        },
        "id": "uL4lsjcnOhYX",
        "outputId": "a8fdc021-aa87-46bf-c1ac-3c453a989155"
      },
      "source": [
        "his.history.keys()\n",
        "valmae=his.history['val_mae']\n",
        "epochs=range(150)\n",
        "plt.plot(epochs,valmae,'b',label='val mae')"
      ],
      "execution_count": 36,
      "outputs": [
        {
          "output_type": "execute_result",
          "data": {
            "text/plain": [
              "[<matplotlib.lines.Line2D at 0x7f8e884b8890>]"
            ]
          },
          "metadata": {
            "tags": []
          },
          "execution_count": 36
        },
        {
          "output_type": "display_data",
          "data": {
            "image/png": "[encoded data removed]",
            "text/plain": [
              "<Figure size 432x288 with 1 Axes>"
            ]
          },
          "metadata": {
            "tags": [],
            "needs_background": "light"
          }
        }
      ]
    }
  ]
}