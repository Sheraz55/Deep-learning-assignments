{
  "nbformat": 4,
  "nbformat_minor": 0,
  "metadata": {
    "colab": {
      "name": "Compresive Strength Concrete Problem.ipynb",
      "provenance": [],
      "authorship_tag": "ABX9TyOvITqr9tiirXm2hnGcUWjj",
      "include_colab_link": true
    },
    "kernelspec": {
      "name": "python3",
      "display_name": "Python 3"
    },
    "language_info": {
      "name": "python"
    }
  },
  "cells": [
    {
      "cell_type": "markdown",
      "metadata": {
        "id": "view-in-github",
        "colab_type": "text"
      },
      "source": [
        "<a href=\"https://colab.research.google.com/github/Sheraz55/Deep-learning-assignments/blob/main/Compresive_Strength_Concrete_Problem.ipynb\" target=\"_parent\"><img src=\"https://colab.research.google.com/assets/colab-badge.svg\" alt=\"Open In Colab\"/></a>"
      ]
    },
    {
      "cell_type": "code",
      "metadata": {
        "id": "2UiFMvvO6X5T"
      },
      "source": [
        "import numpy as np\n",
        "import pandas as pd\n",
        "import matplotlib as plt\n",
        "import tensorflow as tf"
      ],
      "execution_count": 29,
      "outputs": []
    },
    {
      "cell_type": "code",
      "metadata": {
        "id": "hwle1irf61JN",
        "colab": {
          "base_uri": "https://localhost:8080/",
          "height": 322
        },
        "outputId": "d63c3194-cf22-4106-9f8b-d901a6e0bb3d"
      },
      "source": [
        "data = pd.read_csv('/content/Concrete.csv')\n",
        "data.head()"
      ],
      "execution_count": 30,
      "outputs": [
        {
          "output_type": "execute_result",
          "data": {
            "text/html": [
              "<div>\n",
              "<style scoped>\n",
              "    .dataframe tbody tr th:only-of-type {\n",
              "        vertical-align: middle;\n",
              "    }\n",
              "\n",
              "    .dataframe tbody tr th {\n",
              "        vertical-align: top;\n",
              "    }\n",
              "\n",
              "    .dataframe thead th {\n",
              "        text-align: right;\n",
              "    }\n",
              "</style>\n",
              "<table border=\"1\" class=\"dataframe\">\n",
              "  <thead>\n",
              "    <tr style=\"text-align: right;\">\n",
              "      <th></th>\n",
              "      <th>Cement (component 1)(kg in a m^3 mixture)</th>\n",
              "      <th>Blast Furnace Slag (component 2)(kg in a m^3 mixture)</th>\n",
              "      <th>Fly Ash (component 3)(kg in a m^3 mixture)</th>\n",
              "      <th>Water (component 4)(kg in a m^3 mixture)</th>\n",
              "      <th>Superplasticizer (component 5)(kg in a m^3 mixture)</th>\n",
              "      <th>Coarse Aggregate (component 6)(kg in a m^3 mixture)</th>\n",
              "      <th>Fine Aggregate (component 7)(kg in a m^3 mixture)</th>\n",
              "      <th>Age (day)</th>\n",
              "      <th>Concrete compressive strength(MPa, megapascals)</th>\n",
              "      <th>Unnamed: 9</th>\n",
              "    </tr>\n",
              "  </thead>\n",
              "  <tbody>\n",
              "    <tr>\n",
              "      <th>0</th>\n",
              "      <td>540.0</td>\n",
              "      <td>0.0</td>\n",
              "      <td>0.0</td>\n",
              "      <td>162.0</td>\n",
              "      <td>2.5</td>\n",
              "      <td>1040.0</td>\n",
              "      <td>676.0</td>\n",
              "      <td>28</td>\n",
              "      <td>79.99</td>\n",
              "      <td>NaN</td>\n",
              "    </tr>\n",
              "    <tr>\n",
              "      <th>1</th>\n",
              "      <td>540.0</td>\n",
              "      <td>0.0</td>\n",
              "      <td>0.0</td>\n",
              "      <td>162.0</td>\n",
              "      <td>2.5</td>\n",
              "      <td>1055.0</td>\n",
              "      <td>676.0</td>\n",
              "      <td>28</td>\n",
              "      <td>61.89</td>\n",
              "      <td>NaN</td>\n",
              "    </tr>\n",
              "    <tr>\n",
              "      <th>2</th>\n",
              "      <td>332.5</td>\n",
              "      <td>142.5</td>\n",
              "      <td>0.0</td>\n",
              "      <td>228.0</td>\n",
              "      <td>0.0</td>\n",
              "      <td>932.0</td>\n",
              "      <td>594.0</td>\n",
              "      <td>270</td>\n",
              "      <td>40.27</td>\n",
              "      <td>NaN</td>\n",
              "    </tr>\n",
              "    <tr>\n",
              "      <th>3</th>\n",
              "      <td>332.5</td>\n",
              "      <td>142.5</td>\n",
              "      <td>0.0</td>\n",
              "      <td>228.0</td>\n",
              "      <td>0.0</td>\n",
              "      <td>932.0</td>\n",
              "      <td>594.0</td>\n",
              "      <td>365</td>\n",
              "      <td>41.05</td>\n",
              "      <td>NaN</td>\n",
              "    </tr>\n",
              "    <tr>\n",
              "      <th>4</th>\n",
              "      <td>198.6</td>\n",
              "      <td>132.4</td>\n",
              "      <td>0.0</td>\n",
              "      <td>192.0</td>\n",
              "      <td>0.0</td>\n",
              "      <td>978.4</td>\n",
              "      <td>825.5</td>\n",
              "      <td>360</td>\n",
              "      <td>44.30</td>\n",
              "      <td>NaN</td>\n",
              "    </tr>\n",
              "  </tbody>\n",
              "</table>\n",
              "</div>"
            ],
            "text/plain": [
              "   Cement (component 1)(kg in a m^3 mixture)  ...  Unnamed: 9\n",
              "0                                      540.0  ...         NaN\n",
              "1                                      540.0  ...         NaN\n",
              "2                                      332.5  ...         NaN\n",
              "3                                      332.5  ...         NaN\n",
              "4                                      198.6  ...         NaN\n",
              "\n",
              "[5 rows x 10 columns]"
            ]
          },
          "metadata": {
            "tags": []
          },
          "execution_count": 30
        }
      ]
    },
    {
      "cell_type": "code",
      "metadata": {
        "colab": {
          "base_uri": "https://localhost:8080/"
        },
        "id": "72ZTWi5l7KNt",
        "outputId": "ff520ea9-7011-400d-81bc-aea3e7b7c9d9"
      },
      "source": [
        "data.isnull().any()"
      ],
      "execution_count": 31,
      "outputs": [
        {
          "output_type": "execute_result",
          "data": {
            "text/plain": [
              "Cement (component 1)(kg in a m^3 mixture)                False\n",
              "Blast Furnace Slag (component 2)(kg in a m^3 mixture)    False\n",
              "Fly Ash (component 3)(kg in a m^3 mixture)               False\n",
              "Water (component 4)(kg in a m^3 mixture)                 False\n",
              "Superplasticizer (component 5)(kg in a m^3 mixture)      False\n",
              "Coarse Aggregate (component 6)(kg in a m^3 mixture)      False\n",
              "Fine Aggregate (component 7)(kg in a m^3 mixture)        False\n",
              "Age (day)                                                False\n",
              "Concrete compressive strength(MPa, megapascals)          False\n",
              "Unnamed: 9                                                True\n",
              "dtype: bool"
            ]
          },
          "metadata": {
            "tags": []
          },
          "execution_count": 31
        }
      ]
    },
    {
      "cell_type": "code",
      "metadata": {
        "id": "7VBudGq_8DCh"
      },
      "source": [
        "data.fillna(0, inplace=True)"
      ],
      "execution_count": 32,
      "outputs": []
    },
    {
      "cell_type": "code",
      "metadata": {
        "colab": {
          "base_uri": "https://localhost:8080/"
        },
        "id": "Rue7o1BJ8MeZ",
        "outputId": "0ec8eb2c-2753-4872-f97d-574cac2e476c"
      },
      "source": [
        "data.isnull().values.any()"
      ],
      "execution_count": 33,
      "outputs": [
        {
          "output_type": "execute_result",
          "data": {
            "text/plain": [
              "False"
            ]
          },
          "metadata": {
            "tags": []
          },
          "execution_count": 33
        }
      ]
    },
    {
      "cell_type": "code",
      "metadata": {
        "colab": {
          "base_uri": "https://localhost:8080/"
        },
        "id": "zUjb4dTFLnMV",
        "outputId": "9367d894-a061-472b-d71f-79fe1c65455a"
      },
      "source": [
        "data.info()"
      ],
      "execution_count": 34,
      "outputs": [
        {
          "output_type": "stream",
          "text": [
            "<class 'pandas.core.frame.DataFrame'>\n",
            "RangeIndex: 1030 entries, 0 to 1029\n",
            "Data columns (total 10 columns):\n",
            " #   Column                                                 Non-Null Count  Dtype  \n",
            "---  ------                                                 --------------  -----  \n",
            " 0   Cement (component 1)(kg in a m^3 mixture)              1030 non-null   float64\n",
            " 1   Blast Furnace Slag (component 2)(kg in a m^3 mixture)  1030 non-null   float64\n",
            " 2   Fly Ash (component 3)(kg in a m^3 mixture)             1030 non-null   float64\n",
            " 3   Water (component 4)(kg in a m^3 mixture)               1030 non-null   float64\n",
            " 4   Superplasticizer (component 5)(kg in a m^3 mixture)    1030 non-null   float64\n",
            " 5   Coarse Aggregate (component 6)(kg in a m^3 mixture)    1030 non-null   float64\n",
            " 6   Fine Aggregate (component 7)(kg in a m^3 mixture)      1030 non-null   float64\n",
            " 7   Age (day)                                              1030 non-null   int64  \n",
            " 8   Concrete compressive strength(MPa, megapascals)        1030 non-null   float64\n",
            " 9   Unnamed: 9                                             1030 non-null   float64\n",
            "dtypes: float64(9), int64(1)\n",
            "memory usage: 80.6 KB\n"
          ],
          "name": "stdout"
        }
      ]
    },
    {
      "cell_type": "markdown",
      "metadata": {
        "id": "-eXzYThlIAD1"
      },
      "source": [
        "Split data\n"
      ]
    },
    {
      "cell_type": "code",
      "metadata": {
        "colab": {
          "base_uri": "https://localhost:8080/"
        },
        "id": "BjVFnrKxHzPN",
        "outputId": "4e77e7ff-659c-45b8-fa57-fa5742be5fa9"
      },
      "source": [
        "train_data = data.iloc[0:515, 0:-1]\n",
        "train_targets = data.iloc[0:515, -1]\n",
        "\n",
        "test_data = data.iloc[515:824, 0:-1]\n",
        "test_targets = data.iloc[515:824, -1]\n",
        "\n",
        "val_data = data.iloc[824:1030, 0:-1]\n",
        "val_targets = data.iloc[824:1030, -1]\n",
        "\n",
        "print(train_data.shape)\n",
        "print(train_targets.shape)\n",
        "print(test_data.shape)\n",
        "print(test_targets.shape)\n",
        "print(val_data.shape)\n",
        "print(val_targets.shape)"
      ],
      "execution_count": 35,
      "outputs": [
        {
          "output_type": "stream",
          "text": [
            "(515, 9)\n",
            "(515,)\n",
            "(309, 9)\n",
            "(309,)\n",
            "(206, 9)\n",
            "(206,)\n"
          ],
          "name": "stdout"
        }
      ]
    },
    {
      "cell_type": "code",
      "metadata": {
        "id": "EAubJSXH8aVT"
      },
      "source": [
        "mean = train_data.mean(axis=0)\n",
        "train_data -= mean\n",
        "std = train_data.std(axis=0)\n",
        "train_data /= std\n",
        "test_data -= mean\n",
        "test_data /= std"
      ],
      "execution_count": 36,
      "outputs": []
    },
    {
      "cell_type": "code",
      "metadata": {
        "id": "UrnUOpa8Hh_N"
      },
      "source": [
        "from keras import models\n",
        "from keras import layers\n",
        "\n",
        "model = models.Sequential()\n",
        "model.add(layers.Dense(512, activation = 'relu'))\n",
        "model.add(layers.Dense(128, activation = 'relu'))\n",
        "model.add(layers.Dense(32, activation = 'relu'))\n",
        "model.add(layers.Dense(1, activation = 'sigmoid'))"
      ],
      "execution_count": 37,
      "outputs": []
    },
    {
      "cell_type": "code",
      "metadata": {
        "id": "WIZHqXzvOe1f"
      },
      "source": [
        "model.compile(optimizer='adam', loss='mse', metrics = ['mae'])"
      ],
      "execution_count": 38,
      "outputs": []
    },
    {
      "cell_type": "code",
      "metadata": {
        "colab": {
          "base_uri": "https://localhost:8080/"
        },
        "id": "kAhHY7y4Oyi-",
        "outputId": "16cea059-ae87-4f93-c333-9eec6fdbd15e"
      },
      "source": [
        "model.fit(train_data, train_targets, epochs=100, batch_size=10)"
      ],
      "execution_count": 39,
      "outputs": [
        {
          "output_type": "stream",
          "text": [
            "Epoch 1/100\n",
            "52/52 [==============================] - 1s 2ms/step - loss: 0.0944 - mae: 0.2429\n",
            "Epoch 2/100\n",
            "52/52 [==============================] - 0s 2ms/step - loss: 5.2132e-05 - mae: 0.0046\n",
            "Epoch 3/100\n",
            "52/52 [==============================] - 0s 2ms/step - loss: 2.4285e-05 - mae: 0.0031\n",
            "Epoch 4/100\n",
            "52/52 [==============================] - 0s 2ms/step - loss: 1.8499e-05 - mae: 0.0027\n",
            "Epoch 5/100\n",
            "52/52 [==============================] - 0s 2ms/step - loss: 1.8553e-05 - mae: 0.0027\n",
            "Epoch 6/100\n",
            "52/52 [==============================] - 0s 2ms/step - loss: 1.1791e-05 - mae: 0.0021\n",
            "Epoch 7/100\n",
            "52/52 [==============================] - 0s 2ms/step - loss: 9.0565e-06 - mae: 0.0018\n",
            "Epoch 8/100\n",
            "52/52 [==============================] - 0s 2ms/step - loss: 6.3106e-06 - mae: 0.0015\n",
            "Epoch 9/100\n",
            "52/52 [==============================] - 0s 2ms/step - loss: 5.5516e-06 - mae: 0.0014\n",
            "Epoch 10/100\n",
            "52/52 [==============================] - 0s 2ms/step - loss: 5.7390e-06 - mae: 0.0014\n",
            "Epoch 11/100\n",
            "52/52 [==============================] - 0s 2ms/step - loss: 4.1159e-06 - mae: 0.0012\n",
            "Epoch 12/100\n",
            "52/52 [==============================] - 0s 2ms/step - loss: 4.0163e-06 - mae: 0.0011\n",
            "Epoch 13/100\n",
            "52/52 [==============================] - 0s 2ms/step - loss: 2.8260e-06 - mae: 9.4344e-04\n",
            "Epoch 14/100\n",
            "52/52 [==============================] - 0s 2ms/step - loss: 2.2825e-06 - mae: 8.8651e-04\n",
            "Epoch 15/100\n",
            "52/52 [==============================] - 0s 2ms/step - loss: 1.9997e-06 - mae: 7.7866e-04\n",
            "Epoch 16/100\n",
            "52/52 [==============================] - 0s 2ms/step - loss: 1.9926e-06 - mae: 8.0491e-04\n",
            "Epoch 17/100\n",
            "52/52 [==============================] - 0s 2ms/step - loss: 1.8965e-06 - mae: 7.8442e-04\n",
            "Epoch 18/100\n",
            "52/52 [==============================] - 0s 2ms/step - loss: 1.8663e-06 - mae: 7.6910e-04\n",
            "Epoch 19/100\n",
            "52/52 [==============================] - 0s 2ms/step - loss: 1.5038e-06 - mae: 6.6952e-04\n",
            "Epoch 20/100\n",
            "52/52 [==============================] - 0s 2ms/step - loss: 1.5414e-06 - mae: 6.8187e-04\n",
            "Epoch 21/100\n",
            "52/52 [==============================] - 0s 2ms/step - loss: 1.1290e-06 - mae: 5.8277e-04\n",
            "Epoch 22/100\n",
            "52/52 [==============================] - 0s 2ms/step - loss: 9.7739e-07 - mae: 5.3143e-04\n",
            "Epoch 23/100\n",
            "52/52 [==============================] - 0s 2ms/step - loss: 8.6842e-07 - mae: 5.0744e-04\n",
            "Epoch 24/100\n",
            "52/52 [==============================] - 0s 2ms/step - loss: 8.0631e-07 - mae: 4.7647e-04\n",
            "Epoch 25/100\n",
            "52/52 [==============================] - 0s 2ms/step - loss: 5.8821e-07 - mae: 4.1761e-04\n",
            "Epoch 26/100\n",
            "52/52 [==============================] - 0s 2ms/step - loss: 8.3163e-07 - mae: 4.9149e-04\n",
            "Epoch 27/100\n",
            "52/52 [==============================] - 0s 2ms/step - loss: 5.0932e-07 - mae: 3.8650e-04\n",
            "Epoch 28/100\n",
            "52/52 [==============================] - 0s 2ms/step - loss: 5.6813e-07 - mae: 4.2348e-04\n",
            "Epoch 29/100\n",
            "52/52 [==============================] - 0s 2ms/step - loss: 4.4365e-07 - mae: 3.5634e-04\n",
            "Epoch 30/100\n",
            "52/52 [==============================] - 0s 2ms/step - loss: 5.5798e-07 - mae: 4.0655e-04\n",
            "Epoch 31/100\n",
            "52/52 [==============================] - 0s 2ms/step - loss: 4.5308e-07 - mae: 3.5082e-04\n",
            "Epoch 32/100\n",
            "52/52 [==============================] - 0s 2ms/step - loss: 4.4856e-07 - mae: 3.6359e-04\n",
            "Epoch 33/100\n",
            "52/52 [==============================] - 0s 2ms/step - loss: 3.8091e-07 - mae: 3.5193e-04\n",
            "Epoch 34/100\n",
            "52/52 [==============================] - 0s 2ms/step - loss: 3.4848e-07 - mae: 3.2503e-04\n",
            "Epoch 35/100\n",
            "52/52 [==============================] - 0s 2ms/step - loss: 3.0293e-07 - mae: 2.9207e-04\n",
            "Epoch 36/100\n",
            "52/52 [==============================] - 0s 2ms/step - loss: 3.3806e-07 - mae: 3.0975e-04\n",
            "Epoch 37/100\n",
            "52/52 [==============================] - 0s 2ms/step - loss: 3.1163e-07 - mae: 3.0397e-04\n",
            "Epoch 38/100\n",
            "52/52 [==============================] - 0s 2ms/step - loss: 2.8706e-07 - mae: 2.7463e-04\n",
            "Epoch 39/100\n",
            "52/52 [==============================] - 0s 2ms/step - loss: 2.7923e-07 - mae: 2.7486e-04\n",
            "Epoch 40/100\n",
            "52/52 [==============================] - 0s 2ms/step - loss: 3.0809e-07 - mae: 2.8478e-04\n",
            "Epoch 41/100\n",
            "52/52 [==============================] - 0s 2ms/step - loss: 2.8674e-07 - mae: 2.7913e-04\n",
            "Epoch 42/100\n",
            "52/52 [==============================] - 0s 2ms/step - loss: 2.4580e-07 - mae: 2.5319e-04\n",
            "Epoch 43/100\n",
            "52/52 [==============================] - 0s 2ms/step - loss: 1.8775e-07 - mae: 2.1684e-04\n",
            "Epoch 44/100\n",
            "52/52 [==============================] - 0s 2ms/step - loss: 1.9381e-07 - mae: 2.2977e-04\n",
            "Epoch 45/100\n",
            "52/52 [==============================] - 0s 2ms/step - loss: 1.9046e-07 - mae: 2.2549e-04\n",
            "Epoch 46/100\n",
            "52/52 [==============================] - 0s 2ms/step - loss: 1.5729e-07 - mae: 2.0955e-04\n",
            "Epoch 47/100\n",
            "52/52 [==============================] - 0s 2ms/step - loss: 1.7418e-07 - mae: 2.1649e-04\n",
            "Epoch 48/100\n",
            "52/52 [==============================] - 0s 2ms/step - loss: 1.8556e-07 - mae: 2.2587e-04\n",
            "Epoch 49/100\n",
            "52/52 [==============================] - 0s 2ms/step - loss: 1.7812e-07 - mae: 2.1532e-04\n",
            "Epoch 50/100\n",
            "52/52 [==============================] - 0s 2ms/step - loss: 1.5436e-07 - mae: 2.0140e-04\n",
            "Epoch 51/100\n",
            "52/52 [==============================] - 0s 2ms/step - loss: 1.3821e-07 - mae: 1.9439e-04\n",
            "Epoch 52/100\n",
            "52/52 [==============================] - 0s 2ms/step - loss: 1.4588e-07 - mae: 1.9471e-04\n",
            "Epoch 53/100\n",
            "52/52 [==============================] - 0s 2ms/step - loss: 1.2121e-07 - mae: 1.7129e-04\n",
            "Epoch 54/100\n",
            "52/52 [==============================] - 0s 2ms/step - loss: 1.0917e-07 - mae: 1.7391e-04\n",
            "Epoch 55/100\n",
            "52/52 [==============================] - 0s 2ms/step - loss: 1.2207e-07 - mae: 1.7428e-04\n",
            "Epoch 56/100\n",
            "52/52 [==============================] - 0s 2ms/step - loss: 1.1002e-07 - mae: 1.6781e-04\n",
            "Epoch 57/100\n",
            "52/52 [==============================] - 0s 2ms/step - loss: 1.2523e-07 - mae: 1.7944e-04\n",
            "Epoch 58/100\n",
            "52/52 [==============================] - 0s 2ms/step - loss: 9.2872e-08 - mae: 1.5575e-04\n",
            "Epoch 59/100\n",
            "52/52 [==============================] - 0s 2ms/step - loss: 9.4074e-08 - mae: 1.5572e-04\n",
            "Epoch 60/100\n",
            "52/52 [==============================] - 0s 2ms/step - loss: 1.1903e-07 - mae: 1.7557e-04\n",
            "Epoch 61/100\n",
            "52/52 [==============================] - 0s 2ms/step - loss: 8.6873e-08 - mae: 1.5027e-04\n",
            "Epoch 62/100\n",
            "52/52 [==============================] - 0s 2ms/step - loss: 8.7423e-08 - mae: 1.5417e-04\n",
            "Epoch 63/100\n",
            "52/52 [==============================] - 0s 2ms/step - loss: 9.0065e-08 - mae: 1.5419e-04\n",
            "Epoch 64/100\n",
            "52/52 [==============================] - 0s 2ms/step - loss: 8.6306e-08 - mae: 1.5307e-04\n",
            "Epoch 65/100\n",
            "52/52 [==============================] - 0s 2ms/step - loss: 5.6260e-08 - mae: 1.1466e-04\n",
            "Epoch 66/100\n",
            "52/52 [==============================] - 0s 2ms/step - loss: 7.6681e-08 - mae: 1.3897e-04\n",
            "Epoch 67/100\n",
            "52/52 [==============================] - 0s 2ms/step - loss: 6.9443e-08 - mae: 1.3140e-04\n",
            "Epoch 68/100\n",
            "52/52 [==============================] - 0s 2ms/step - loss: 6.4564e-08 - mae: 1.2237e-04\n",
            "Epoch 69/100\n",
            "52/52 [==============================] - 0s 2ms/step - loss: 7.1525e-08 - mae: 1.3233e-04\n",
            "Epoch 70/100\n",
            "52/52 [==============================] - 0s 2ms/step - loss: 7.8075e-08 - mae: 1.3841e-04\n",
            "Epoch 71/100\n",
            "52/52 [==============================] - 0s 2ms/step - loss: 5.7111e-08 - mae: 1.1705e-04\n",
            "Epoch 72/100\n",
            "52/52 [==============================] - 0s 2ms/step - loss: 6.5638e-08 - mae: 1.2910e-04\n",
            "Epoch 73/100\n",
            "52/52 [==============================] - 0s 2ms/step - loss: 5.9614e-08 - mae: 1.2341e-04\n",
            "Epoch 74/100\n",
            "52/52 [==============================] - 0s 2ms/step - loss: 6.3311e-08 - mae: 1.2582e-04\n",
            "Epoch 75/100\n",
            "52/52 [==============================] - 0s 2ms/step - loss: 5.7579e-08 - mae: 1.2278e-04\n",
            "Epoch 76/100\n",
            "52/52 [==============================] - 0s 2ms/step - loss: 5.5361e-08 - mae: 1.1795e-04\n",
            "Epoch 77/100\n",
            "52/52 [==============================] - 0s 2ms/step - loss: 4.4240e-08 - mae: 1.0339e-04\n",
            "Epoch 78/100\n",
            "52/52 [==============================] - 0s 2ms/step - loss: 4.5232e-08 - mae: 1.0646e-04\n",
            "Epoch 79/100\n",
            "52/52 [==============================] - 0s 2ms/step - loss: 5.3677e-08 - mae: 1.1697e-04\n",
            "Epoch 80/100\n",
            "52/52 [==============================] - 0s 2ms/step - loss: 4.7300e-08 - mae: 1.0898e-04\n",
            "Epoch 81/100\n",
            "52/52 [==============================] - 0s 2ms/step - loss: 4.1106e-08 - mae: 1.0117e-04\n",
            "Epoch 82/100\n",
            "52/52 [==============================] - 0s 2ms/step - loss: 3.4379e-08 - mae: 9.4459e-05\n",
            "Epoch 83/100\n",
            "52/52 [==============================] - 0s 2ms/step - loss: 4.0113e-08 - mae: 9.7609e-05\n",
            "Epoch 84/100\n",
            "52/52 [==============================] - 0s 2ms/step - loss: 3.4286e-08 - mae: 9.2186e-05\n",
            "Epoch 85/100\n",
            "52/52 [==============================] - 0s 2ms/step - loss: 3.1063e-08 - mae: 8.4794e-05\n",
            "Epoch 86/100\n",
            "52/52 [==============================] - 0s 2ms/step - loss: 3.4691e-08 - mae: 9.2394e-05\n",
            "Epoch 87/100\n",
            "52/52 [==============================] - 0s 2ms/step - loss: 3.4841e-08 - mae: 9.2288e-05\n",
            "Epoch 88/100\n",
            "52/52 [==============================] - 0s 2ms/step - loss: 2.9870e-08 - mae: 8.6168e-05\n",
            "Epoch 89/100\n",
            "52/52 [==============================] - 0s 2ms/step - loss: 3.2104e-08 - mae: 8.8568e-05\n",
            "Epoch 90/100\n",
            "52/52 [==============================] - 0s 2ms/step - loss: 2.5855e-08 - mae: 8.0495e-05\n",
            "Epoch 91/100\n",
            "52/52 [==============================] - 0s 2ms/step - loss: 2.7793e-08 - mae: 7.9954e-05\n",
            "Epoch 92/100\n",
            "52/52 [==============================] - 0s 2ms/step - loss: 2.8816e-08 - mae: 8.0898e-05\n",
            "Epoch 93/100\n",
            "52/52 [==============================] - 0s 2ms/step - loss: 3.0847e-08 - mae: 8.5680e-05\n",
            "Epoch 94/100\n",
            "52/52 [==============================] - 0s 2ms/step - loss: 2.3774e-08 - mae: 7.8036e-05\n",
            "Epoch 95/100\n",
            "52/52 [==============================] - 0s 2ms/step - loss: 2.2174e-08 - mae: 7.1219e-05\n",
            "Epoch 96/100\n",
            "52/52 [==============================] - 0s 2ms/step - loss: 2.1598e-08 - mae: 7.2409e-05\n",
            "Epoch 97/100\n",
            "52/52 [==============================] - 0s 2ms/step - loss: 1.8151e-08 - mae: 6.4568e-05\n",
            "Epoch 98/100\n",
            "52/52 [==============================] - 0s 2ms/step - loss: 2.2355e-08 - mae: 7.3660e-05\n",
            "Epoch 99/100\n",
            "52/52 [==============================] - 0s 2ms/step - loss: 2.0752e-08 - mae: 7.2151e-05\n",
            "Epoch 100/100\n",
            "52/52 [==============================] - 0s 2ms/step - loss: 2.2537e-08 - mae: 7.0117e-05\n"
          ],
          "name": "stdout"
        },
        {
          "output_type": "execute_result",
          "data": {
            "text/plain": [
              "<tensorflow.python.keras.callbacks.History at 0x7f6fd6b36750>"
            ]
          },
          "metadata": {
            "tags": []
          },
          "execution_count": 39
        }
      ]
    }
  ]
}